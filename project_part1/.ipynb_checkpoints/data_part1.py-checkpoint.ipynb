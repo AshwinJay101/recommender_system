{
 "cells": [
  {
   "cell_type": "code",
   "execution_count": 5,
   "metadata": {},
   "outputs": [],
   "source": [
    "import pandas as pd\n",
    "from surprise import prediction_algorithms as pa\n",
    "from surprise import Dataset, Reader\n",
    "from surprise import evaluate, print_perf"
   ]
  },
  {
   "cell_type": "code",
   "execution_count": 6,
   "metadata": {
    "collapsed": true
   },
   "outputs": [],
   "source": [
    "data = pd.read_csv('./movielens_small/ratings.csv')\n",
    "\n",
    "data = data.sort_values(['timestamp'], ascending=[1])\n",
    "number_of_rows = len(data)\n"
   ]
  },
  {
   "cell_type": "code",
   "execution_count": 7,
   "metadata": {},
   "outputs": [
    {
     "name": "stdout",
     "output_type": "stream",
     "text": [
      "Evaluating RMSE, MAE of algorithm KNNBasic.\n",
      "\n",
      "------------\n",
      "Fold 1\n",
      "Computing the msd similarity matrix...\n",
      "Done computing similarity matrix.\n",
      "RMSE: 0.9628\n",
      "MAE:  0.7381\n",
      "------------\n",
      "Fold 2\n",
      "Computing the msd similarity matrix...\n",
      "Done computing similarity matrix.\n",
      "RMSE: 0.9721\n",
      "MAE:  0.7423\n",
      "------------\n",
      "Fold 3\n",
      "Computing the msd similarity matrix...\n",
      "Done computing similarity matrix.\n",
      "RMSE: 0.9700\n",
      "MAE:  0.7409\n",
      "------------\n",
      "Fold 4\n",
      "Computing the msd similarity matrix...\n",
      "Done computing similarity matrix.\n",
      "RMSE: 0.9627\n",
      "MAE:  0.7360\n",
      "------------\n",
      "Fold 5\n",
      "Computing the msd similarity matrix...\n",
      "Done computing similarity matrix.\n",
      "RMSE: 0.9590\n",
      "MAE:  0.7385\n",
      "------------\n",
      "------------\n",
      "Mean RMSE: 0.9653\n",
      "Mean MAE : 0.7392\n",
      "------------\n",
      "------------\n"
     ]
    }
   ],
   "source": [
    "\n",
    "reader = Reader(rating_scale=(1, 5))\n",
    "train_data = Dataset.load_from_df(data[['userId','movieId','rating']], reader)\n",
    "\n",
    "algo = pa.knns.KNNBasic(k=10)\n",
    "\n",
    "train_data.split(n_folds=5)\n",
    "\n",
    "perf = evaluate(algo, train_data, measures=['RMSE', 'MAE'])"
   ]
  },
  {
   "cell_type": "code",
   "execution_count": 8,
   "metadata": {},
   "outputs": [
    {
     "ename": "SyntaxError",
     "evalue": "invalid syntax (<ipython-input-8-dec7a7126677>, line 18)",
     "output_type": "error",
     "traceback": [
      "\u001b[1;36m  File \u001b[1;32m\"<ipython-input-8-dec7a7126677>\"\u001b[1;36m, line \u001b[1;32m18\u001b[0m\n\u001b[1;33m    print((s/)**0.5)\u001b[0m\n\u001b[1;37m             ^\u001b[0m\n\u001b[1;31mSyntaxError\u001b[0m\u001b[1;31m:\u001b[0m invalid syntax\n"
     ]
    }
   ],
   "source": [
    "split = int(0.8*number_of_rows)\n",
    "print(split)\n",
    "train_data = data[:split]\n",
    "test_data = data[split:]\n",
    "\n",
    "reader = Reader(rating_scale=(1, 5))\n",
    "train_data = Dataset.load_from_df(train_data[['userId','movieId','rating']], reader)\n",
    "train_data = train_data.build_full_trainset()\n",
    "\n",
    "algo = pa.knns.KNNBasic(k=10)\n",
    "\n",
    "algo.train(train_data)\n",
    "\n",
    "s = 0\n",
    "for index,row in test_data.iterrows():\n",
    "    ans = algo.predict(row['userId'],row['movieId'])\n",
    "    s += (ans.est-row['rating'])**2\n",
    "print((s)**0.5)"
   ]
  },
  {
   "cell_type": "code",
   "execution_count": null,
   "metadata": {
    "collapsed": true
   },
   "outputs": [],
   "source": []
  }
 ],
 "metadata": {
  "kernelspec": {
   "display_name": "Python 2",
   "language": "python",
   "name": "python2"
  },
  "language_info": {
   "codemirror_mode": {
    "name": "ipython",
    "version": 2
   },
   "file_extension": ".py",
   "mimetype": "text/x-python",
   "name": "python",
   "nbconvert_exporter": "python",
   "pygments_lexer": "ipython2",
   "version": "2.7.13"
  }
 },
 "nbformat": 4,
 "nbformat_minor": 2
}
