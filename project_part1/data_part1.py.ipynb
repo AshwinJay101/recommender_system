{
 "cells": [
  {
   "cell_type": "code",
   "execution_count": 33,
   "metadata": {},
   "outputs": [],
   "source": [
    "import pandas as pd\n",
    "from surprise import prediction_algorithms as pa\n",
    "from surprise import Dataset, Reader\n",
    "from surprise import evaluate, print_perf"
   ]
  },
  {
   "cell_type": "code",
   "execution_count": 45,
   "metadata": {},
   "outputs": [
    {
     "name": "stdout",
     "output_type": "stream",
     "text": [
      "Evaluating RMSE, MAE of algorithm KNNBasic.\n",
      "\n",
      "------------\n",
      "Fold 1\n",
      "Computing the msd similarity matrix...\n",
      "Done computing similarity matrix.\n",
      "RMSE: 0.9644\n",
      "MAE:  0.7382\n",
      "------------\n",
      "Fold 2\n",
      "Computing the msd similarity matrix...\n",
      "Done computing similarity matrix.\n",
      "RMSE: 0.9570\n",
      "MAE:  0.7394\n",
      "------------\n",
      "Fold 3\n",
      "Computing the msd similarity matrix...\n",
      "Done computing similarity matrix.\n",
      "RMSE: 0.9597\n",
      "MAE:  0.7385\n",
      "------------\n",
      "Fold 4\n",
      "Computing the msd similarity matrix...\n",
      "Done computing similarity matrix.\n",
      "RMSE: 0.9661\n",
      "MAE:  0.7379\n",
      "------------\n",
      "Fold 5\n",
      "Computing the msd similarity matrix...\n",
      "Done computing similarity matrix.\n",
      "RMSE: 0.9720\n",
      "MAE:  0.7448\n",
      "------------\n",
      "------------\n",
      "Mean RMSE: 0.9639\n",
      "Mean MAE : 0.7398\n",
      "------------\n",
      "------------\n"
     ]
    }
   ],
   "source": [
    "data = pd.read_csv('./movielens_small/ratings.csv')\n",
    "\n",
    "data = data.sort_values(['timestamp'], ascending=[1])\n",
    "number_of_rows = len(data)\n",
    "\n",
    "train_test_ratio = 0.8\n",
    "train_size = int(0.8*number_of_rows)\n",
    "train_data = data[:train_size]\n",
    "test_data = data[train_size:]\n",
    "\n",
    "train_data.tail()\n",
    "test_data.head()\n",
    "\n",
    "reader = Reader(rating_scale=(1, 5))\n",
    "train_data = Dataset.load_from_df(train_data[['userId','movieId','rating']], reader)\n",
    "\n",
    "algo = pa.knns.KNNBasic(k=10)\n",
    "\n",
    "train_data.split(n_folds=5)\n",
    "\n",
    "perf = evaluate(algo, train_data, measures=['RMSE', 'MAE'])"
   ]
  }
 ],
 "metadata": {
  "kernelspec": {
   "display_name": "Python 3",
   "language": "python",
   "name": "python3"
  },
  "language_info": {
   "codemirror_mode": {
    "name": "ipython",
    "version": 3
   },
   "file_extension": ".py",
   "mimetype": "text/x-python",
   "name": "python",
   "nbconvert_exporter": "python",
   "pygments_lexer": "ipython3",
   "version": "3.6.3"
  }
 },
 "nbformat": 4,
 "nbformat_minor": 2
}
