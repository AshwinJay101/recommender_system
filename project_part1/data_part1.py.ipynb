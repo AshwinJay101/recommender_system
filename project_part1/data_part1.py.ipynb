{
 "cells": [
  {
   "cell_type": "code",
   "execution_count": 1,
   "metadata": {
    "collapsed": true
   },
   "outputs": [],
   "source": [
    "import pandas as pd\n",
    "from surprise import prediction_algorithms as pa\n",
    "from surprise import Dataset, Reader\n",
    "from surprise import evaluate, print_perf"
   ]
  },
  {
   "cell_type": "code",
   "execution_count": 2,
   "metadata": {
    "collapsed": true
   },
   "outputs": [],
   "source": [
    "data = pd.read_csv('./movielens_small/ratings.csv')\n",
    "number_of_rows = len(data)"
   ]
  },
  {
   "cell_type": "code",
   "execution_count": 3,
   "metadata": {},
   "outputs": [
    {
     "name": "stdout",
     "output_type": "stream",
     "text": [
      "Evaluating RMSE, MAE of algorithm KNNBasic.\n",
      "\n",
      "------------\n",
      "Fold 1\n",
      "Computing the msd similarity matrix...\n",
      "Done computing similarity matrix.\n",
      "RMSE: 0.9717\n",
      "MAE:  0.7433\n",
      "------------\n",
      "Fold 2\n",
      "Computing the msd similarity matrix...\n",
      "Done computing similarity matrix.\n",
      "RMSE: 0.9595\n",
      "MAE:  0.7357\n",
      "------------\n",
      "Fold 3\n",
      "Computing the msd similarity matrix...\n",
      "Done computing similarity matrix.\n",
      "RMSE: 0.9713\n",
      "MAE:  0.7408\n",
      "------------\n",
      "Fold 4\n",
      "Computing the msd similarity matrix...\n",
      "Done computing similarity matrix.\n",
      "RMSE: 0.9625\n",
      "MAE:  0.7367\n",
      "------------\n",
      "Fold 5\n",
      "Computing the msd similarity matrix...\n",
      "Done computing similarity matrix.\n",
      "RMSE: 0.9691\n",
      "MAE:  0.7429\n",
      "------------\n",
      "------------\n",
      "Mean RMSE: 0.9668\n",
      "Mean MAE : 0.7399\n",
      "------------\n",
      "------------\n"
     ]
    }
   ],
   "source": [
    "reader = Reader(rating_scale=(1, 5))\n",
    "train_data = Dataset.load_from_df(data[['userId','movieId','rating']], reader)\n",
    "\n",
    "algo = pa.knns.KNNBasic(k=10)\n",
    "\n",
    "train_data.split(n_folds=5)\n",
    "\n",
    "perf = evaluate(algo, train_data, measures=['RMSE', 'MAE'])"
   ]
  },
  {
   "cell_type": "code",
   "execution_count": 15,
   "metadata": {},
   "outputs": [
    {
     "name": "stdout",
     "output_type": "stream",
     "text": [
      "Computing the msd similarity matrix...\n",
      "Done computing similarity matrix.\n",
      "rmse : =  1.07101198352\n",
      "mae : =  0.851547586044\n",
      "Computing the msd similarity matrix...\n",
      "Done computing similarity matrix.\n",
      "rmse : =  1.07653509197\n",
      "mae : =  0.845802206656\n",
      "Computing the msd similarity matrix...\n",
      "Done computing similarity matrix.\n",
      "rmse : =  1.06700145423\n",
      "mae : =  0.83260725111\n",
      "Computing the msd similarity matrix...\n",
      "Done computing similarity matrix.\n",
      "rmse : =  1.04385117435\n",
      "mae : =  0.812186292471\n",
      "Computing the msd similarity matrix...\n",
      "Done computing similarity matrix.\n",
      "rmse : =  1.04681014379\n",
      "mae : =  0.815498098866\n",
      "Computing the msd similarity matrix...\n",
      "Done computing similarity matrix.\n",
      "rmse : =  1.05644160379\n",
      "mae : =  0.824657058312\n",
      "Computing the msd similarity matrix...\n",
      "Done computing similarity matrix.\n",
      "rmse : =  1.07779533901\n",
      "mae : =  0.844681589602\n",
      "Computing the msd similarity matrix...\n",
      "Done computing similarity matrix.\n",
      "rmse : =  1.0719785683\n",
      "mae : =  0.84331336382\n",
      "Computing the msd similarity matrix...\n",
      "Done computing similarity matrix.\n",
      "rmse : =  1.08919321789\n",
      "mae : =  0.861579636413\n",
      "Computing the msd similarity matrix...\n",
      "Done computing similarity matrix.\n",
      "rmse : =  1.13917299183\n",
      "mae : =  0.906239958196\n"
     ]
    }
   ],
   "source": [
    "for x in [0.1,0.2,0.3,0.4,0.5,0.6,0.7,0.75,0.8,0.9]:\n",
    "    split = int(x*number_of_rows)\n",
    "    data = data.sort_values(['timestamp'], ascending=[1])\n",
    "    train_data = data[:split]\n",
    "    test_data = data[split:]\n",
    "\n",
    "    reader = Reader(rating_scale=(1, 5))\n",
    "    train_data = Dataset.load_from_df(train_data[['userId','movieId','rating']], reader)\n",
    "    train_data = train_data.build_full_trainset()\n",
    "\n",
    "    algo = pa.knns.KNNBasic(k=10)\n",
    "\n",
    "    algo.train(train_data)\n",
    "\n",
    "    rmse = 0.0\n",
    "    mae = 0.0\n",
    "    for index,row in test_data.iterrows():\n",
    "        ans = algo.predict(row['userId'],row['movieId'])\n",
    "        rmse += (ans.est-row['rating'])**2\n",
    "        mae += abs(ans.est-row['rating'])\n",
    "    print(\"rmse : = \",(rmse*1.0/len(test_data))**0.5)\n",
    "    print(\"mae : = \",(mae*1.0/len(test_data)))"
   ]
  },
  {
   "cell_type": "code",
   "execution_count": 13,
   "metadata": {},
   "outputs": [
    {
     "name": "stdout",
     "output_type": "stream",
     "text": [
      "Computing the msd similarity matrix...\n",
      "Done computing similarity matrix.\n",
      "rmse : =  1.0073038407\n",
      "mae : =  0.770365747354\n"
     ]
    }
   ],
   "source": [
    "split = 0.8\n",
    "data = data.sort_values(['userId','timestamp'],ascending=[1,1])\n",
    "users = data.userId.unique()\n",
    "train_data = pd.DataFrame()\n",
    "test_data = pd.DataFrame()\n",
    "user_set_sizes = []\n",
    "for user in users:\n",
    "    temp_data = data['userId'] == user\n",
    "    temp_data = data[temp_data]\n",
    "    user_set_sizes.append(len(temp_data))\n",
    "    x = temp_data[:int(split*len(temp_data))]\n",
    "    train_data = train_data.append(x)\n",
    "    x = temp_data[int(split*len(temp_data)):]\n",
    "    test_data = test_data.append(x)\n",
    "\n",
    "reader = Reader(rating_scale=(1, 5))\n",
    "train_data = Dataset.load_from_df(train_data[['userId','movieId','rating']], reader)\n",
    "train_data = train_data.build_full_trainset()\n",
    "\n",
    "algo = pa.knns.KNNBasic(k=10)\n",
    "\n",
    "algo.train(train_data)\n",
    "\n",
    "rmse = 0.0\n",
    "mae = 0.0\n",
    "for index,row in test_data.iterrows():\n",
    "    ans = algo.predict(row['userId'],row['movieId'])\n",
    "    rmse += (ans.est-row['rating'])**2\n",
    "    mae += abs(ans.est-row['rating'])\n",
    "print(\"rmse : = \",(rmse*1.0/len(test_data))**0.5)\n",
    "print(\"mae : = \",(mae*1.0/len(test_data)))"
   ]
  },
  {
   "cell_type": "code",
   "execution_count": null,
   "metadata": {
    "collapsed": true
   },
   "outputs": [],
   "source": []
  }
 ],
 "metadata": {
  "kernelspec": {
   "display_name": "Python 3",
   "language": "python",
   "name": "python3"
  },
  "language_info": {
   "codemirror_mode": {
    "name": "ipython",
    "version": 3
   },
   "file_extension": ".py",
   "mimetype": "text/x-python",
   "name": "python",
   "nbconvert_exporter": "python",
   "pygments_lexer": "ipython3",
   "version": "3.6.3"
  }
 },
 "nbformat": 4,
 "nbformat_minor": 2
}
