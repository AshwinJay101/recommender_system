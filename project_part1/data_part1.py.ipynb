{
 "cells": [
  {
   "cell_type": "code",
   "execution_count": 7,
   "metadata": {},
   "outputs": [],
   "source": [
    "import pandas as pd\n",
    "from surprise import prediction_algorithms as pa\n",
    "from surprise import Dataset, Reader\n",
    "from surprise import evaluate, print_perf"
   ]
  },
  {
   "cell_type": "code",
   "execution_count": 8,
   "metadata": {},
   "outputs": [],
   "source": [
    "data = pd.read_csv('./movielens_small/ratings.csv')\n",
    "\n",
    "data = data.sort_values(['timestamp'], ascending=[1])\n",
    "number_of_rows = len(data)\n"
   ]
  },
  {
   "cell_type": "code",
   "execution_count": 9,
   "metadata": {},
   "outputs": [
    {
     "name": "stdout",
     "output_type": "stream",
     "text": [
      "Evaluating RMSE, MAE of algorithm KNNBasic.\n",
      "\n",
      "------------\n",
      "Fold 1\n",
      "Computing the msd similarity matrix...\n",
      "Done computing similarity matrix.\n",
      "RMSE: 0.9600\n",
      "MAE:  0.7349\n",
      "------------\n",
      "Fold 2\n",
      "Computing the msd similarity matrix...\n",
      "Done computing similarity matrix.\n",
      "RMSE: 0.9698\n",
      "MAE:  0.7408\n",
      "------------\n",
      "Fold 3\n",
      "Computing the msd similarity matrix...\n",
      "Done computing similarity matrix.\n",
      "RMSE: 0.9703\n",
      "MAE:  0.7434\n",
      "------------\n",
      "Fold 4\n",
      "Computing the msd similarity matrix...\n",
      "Done computing similarity matrix.\n",
      "RMSE: 0.9593\n",
      "MAE:  0.7355\n",
      "------------\n",
      "Fold 5\n",
      "Computing the msd similarity matrix...\n",
      "Done computing similarity matrix.\n",
      "RMSE: 0.9731\n",
      "MAE:  0.7464\n",
      "------------\n",
      "------------\n",
      "Mean RMSE: 0.9665\n",
      "Mean MAE : 0.7402\n",
      "------------\n",
      "------------\n"
     ]
    }
   ],
   "source": [
    "\n",
    "reader = Reader(rating_scale=(1, 5))\n",
    "train_data = Dataset.load_from_df(data[['userId','movieId','rating']], reader)\n",
    "\n",
    "algo = pa.knns.KNNBasic(k=10)\n",
    "\n",
    "train_data.split(n_folds=5)\n",
    "\n",
    "perf = evaluate(algo, train_data, measures=['RMSE', 'MAE'])"
   ]
  },
  {
   "cell_type": "code",
   "execution_count": 33,
   "metadata": {},
   "outputs": [
    {
     "name": "stdout",
     "output_type": "stream",
     "text": [
      "80003\n",
      "Computing the msd similarity matrix...\n",
      "Done computing similarity matrix.\n"
     ]
    }
   ],
   "source": [
    "split = int(0.8*number_of_rows)\n",
    "print(split)\n",
    "train_data = data[:split]\n",
    "test_data = data[split:]\n",
    "\n",
    "reader = Reader(rating_scale=(1, 5))\n",
    "train_data = Dataset.load_from_df(train_data[['userId','movieId','rating']], reader)\n",
    "train_data = train_data.build_full_trainset()\n",
    "\n",
    "algo = pa.knns.KNNBasic(k=10)\n",
    "\n",
    "algo.train(train_data)\n",
    "\n",
    "s = 0\n",
    "for index,row in test_data.iterrows():\n",
    "    ans = algo.predict(row['userId'],row['movieId'])\n",
    "    s += (ans.est-row['rating'])**2\n",
    "print((s/)**0.5)"
   ]
  },
  {
   "cell_type": "code",
   "execution_count": null,
   "metadata": {
    "collapsed": true
   },
   "outputs": [],
   "source": []
  }
 ],
 "metadata": {
  "kernelspec": {
   "display_name": "Python 3",
   "language": "python",
   "name": "python3"
  },
  "language_info": {
   "codemirror_mode": {
    "name": "ipython",
    "version": 3
   },
   "file_extension": ".py",
   "mimetype": "text/x-python",
   "name": "python",
   "nbconvert_exporter": "python",
   "pygments_lexer": "ipython3",
   "version": "3.6.3"
  }
 },
 "nbformat": 4,
 "nbformat_minor": 2
}
